{
 "cells": [
  {
   "cell_type": "markdown",
   "metadata": {
    "slideshow": {
     "slide_type": "slide"
    }
   },
   "source": [
    "# Introduction to Python syntax and data structures\n",
    "- Python is an open source general-purpose coding language, it was created by Guido van Rossum and first released in 1991\n",
    "- Python is a beginner-friendly language, python code syntax uses English keywords, that makes it easy for anyone to understand and get started with the language"
   ]
  },
  {
   "cell_type": "markdown",
   "metadata": {
    "slideshow": {
     "slide_type": "slide"
    }
   },
   "source": [
    "**What we cover:**\n",
    "\n",
    "**Part 1 - Introduction to Python**\n",
    "- Basic Data Types\n",
    "    - integers (int)\n",
    "    - floats (float)\n",
    "    - strings (str)\n",
    "    - booleans (bool)\n",
    "\n",
    "- Variables\n",
    "- Arithmetic Operators\n",
    "- Comments\n",
    "- Data Type Conversions\n",
    "  \n",
    "\n",
    "\n",
    "**Part 2 - Python Data structures**\n",
    "- Python Data Structures\n",
    "    - Lists\n",
    "    - Dictionaries\n",
    "    - Tuples & Sets\n",
    "    - Using Sets to Get Rid of Duplicates\n",
    "\n"
   ]
  },
  {
   "cell_type": "markdown",
   "metadata": {},
   "source": [
    "## ☑️ SQL vs. Python\n",
    "\n",
    "![](./SQLvPandas.png)\n",
    "\n",
    "You may have already written some SQL, and you might be wondering when to use that versus when to use Python.\n",
    "\n",
    "One big difference is that SQL is executed on a server whereas Python executes locally.\n",
    "\n",
    "This means that SQL lends itself well to scaling up to enormous datasets, accessible from several machines, whereas Python is more suited to smaller datasets that can be accessed locally. \n",
    "\n",
    "Python is... \n",
    "- executed on client\n",
    "- more suitable for **complex** data analysis\n",
    "- easier to debug\n",
    "- does a lot more than just query your data\n",
    "\n",
    "**Python and SQL can work together**\n",
    "\n",
    "Python can work in combination with SQL by using SQL to transform data into manageable size before loading it into a python data structure called a pandas dataframe.\n",
    "\n",
    "So, let's write some Python..."
   ]
  },
  {
   "cell_type": "markdown",
   "metadata": {},
   "source": [
    "**Welcome to Python!**  It's traditional to `print \"Hello World\"` to the screen when you first learn to code. <br> <br> Click on the play button to the left of the cell below to run the code *(aka execute the cell)*."
   ]
  },
  {
   "cell_type": "code",
   "execution_count": 4,
   "metadata": {},
   "outputs": [
    {
     "name": "stdout",
     "output_type": "stream",
     "text": [
      "Hello World\n"
     ]
    }
   ],
   "source": [
    "print(\"Hello World\") \n",
    "\n"
   ]
  },
  {
   "cell_type": "markdown",
   "metadata": {},
   "source": [
    "*Congratulations!*  You've run your first Python code. Now let's learn some Python basics. <br> "
   ]
  },
  {
   "cell_type": "markdown",
   "metadata": {
    "slideshow": {
     "slide_type": "slide"
    }
   },
   "source": [
    "# Part 1 - Introduction to Python"
   ]
  },
  {
   "cell_type": "markdown",
   "metadata": {
    "slideshow": {
     "slide_type": "slide"
    }
   },
   "source": [
    "## ☑️ Basic Data Types"
   ]
  },
  {
   "cell_type": "markdown",
   "metadata": {
    "slideshow": {
     "slide_type": "slide"
    }
   },
   "source": [
    "Python has the following four basic data types: \n",
    "<img src=\"data:image/png;base64,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\"  alt=\"basic data types\" width=\"600\" height=\"400\">"
   ]
  },
  {
   "cell_type": "markdown",
   "metadata": {
    "slideshow": {
     "slide_type": "slide"
    }
   },
   "source": [
    "| Data type | Description   |\n",
    "|:- |:- |\n",
    "|**integers** (`int`)\t|whole numbers, such as `42`, `3`, `56409`|\n",
    "|**floats** (`float`)\t|decimal numbers, such as `57.346`, `0.2`, `5.0`|\n",
    "|**strings** (`str`) \t|sequences of characters, such as `Hello, World.`, `'I\\'m 37'`|\n",
    "|**booleans** (`bool`)\t|can only be either `True` or `False`|\n"
   ]
  },
  {
   "cell_type": "markdown",
   "metadata": {
    "slideshow": {
     "slide_type": "slide"
    }
   },
   "source": [
    "## ☑️ Variables"
   ]
  },
  {
   "cell_type": "markdown",
   "metadata": {
    "slideshow": {
     "slide_type": "slide"
    }
   },
   "source": [
    "- A **variable** is simply a name for something that we need to remember\n",
    "- We can **assign values** to **variables**, which are stored in the computer's memory(RAM)\n",
    "- Assignment operator `=` needs to be used while creating a variable"
   ]
  },
  {
   "cell_type": "markdown",
   "metadata": {
    "slideshow": {
     "slide_type": "slide"
    }
   },
   "source": [
    "Rules for Python variables:\n",
    "- Variable names cannot have spaces in them (normally **\\_underscore\\_** is used instead of space)\n",
    "- Variable names can only contain alpha-numeric characters and underscores (A-z, 0-9, and _ )\n",
    "- Variable names are case-sensitive\n",
    "- Variable names cannot start with a number"
   ]
  },
  {
   "cell_type": "code",
   "execution_count": 5,
   "metadata": {
    "slideshow": {
     "slide_type": "slide"
    }
   },
   "outputs": [],
   "source": [
    "age = 25\n",
    "name = 'Mary'\n",
    "weight_in_kg = 61.4\n",
    "is_male = False"
   ]
  },
  {
   "cell_type": "markdown",
   "metadata": {
    "slideshow": {
     "slide_type": "slide"
    }
   },
   "source": [
    "Python can automatically  determine data type of any object by using the `type()` function"
   ]
  },
  {
   "cell_type": "code",
   "execution_count": 6,
   "metadata": {
    "slideshow": {
     "slide_type": "slide"
    }
   },
   "outputs": [
    {
     "data": {
      "text/plain": [
       "int"
      ]
     },
     "execution_count": 6,
     "metadata": {},
     "output_type": "execute_result"
    }
   ],
   "source": [
    "type(age)"
   ]
  },
  {
   "cell_type": "markdown",
   "metadata": {},
   "source": [
    "Can you figure out the datatype is of the `name` variable before I run the code below to find out?"
   ]
  },
  {
   "cell_type": "code",
   "execution_count": 7,
   "metadata": {},
   "outputs": [
    {
     "data": {
      "text/plain": [
       "str"
      ]
     },
     "execution_count": 7,
     "metadata": {},
     "output_type": "execute_result"
    }
   ],
   "source": [
    "type(name)"
   ]
  },
  {
   "cell_type": "markdown",
   "metadata": {
    "slideshow": {
     "slide_type": "slide"
    }
   },
   "source": [
    "#### Question\n",
    "What datatype is the `is_male` variable? *Use the code cell below to find out.*"
   ]
  },
  {
   "cell_type": "code",
   "execution_count": 8,
   "metadata": {
    "slideshow": {
     "slide_type": "slide"
    }
   },
   "outputs": [],
   "source": [
    "#Add your code here\n",
    "\n"
   ]
  },
  {
   "cell_type": "markdown",
   "metadata": {},
   "source": [
    "What datatype is the `weight_in_kg` variable?"
   ]
  },
  {
   "cell_type": "code",
   "execution_count": 9,
   "metadata": {},
   "outputs": [],
   "source": [
    "#Add your code here.\n",
    "\n"
   ]
  },
  {
   "cell_type": "markdown",
   "metadata": {
    "slideshow": {
     "slide_type": "slide"
    }
   },
   "source": [
    "## ☑️ Arithmetic Operators"
   ]
  },
  {
   "cell_type": "markdown",
   "metadata": {
    "slideshow": {
     "slide_type": "slide"
    }
   },
   "source": [
    "- Arithmetic operators are used with numeric values to perform common mathematical operations\n",
    "- Python abides by BODMAS rules, so brackets first, orders/exponents, division/multiplication, addition/subtraction\n",
    "- More info can be found [here](https://www.twinkl.co.uk/teaching-wiki/bodmas) "
   ]
  },
  {
   "cell_type": "markdown",
   "metadata": {
    "slideshow": {
     "slide_type": "slide"
    }
   },
   "source": [
    "| Operator | Description   |\n",
    "|:- |:- |\n",
    "|+\t|Addition|\n",
    "|-\t|Subtraction|\n",
    "|*\t|Multiplication|\n",
    "|**\t|Exponentiation|\n",
    "|/\t|Division|\n",
    "|//\t|Floor division|\n",
    "|%\t|Modulus|"
   ]
  },
  {
   "cell_type": "markdown",
   "metadata": {
    "slideshow": {
     "slide_type": "slide"
    }
   },
   "source": [
    "#### Addition and subtraction"
   ]
  },
  {
   "cell_type": "code",
   "execution_count": 10,
   "metadata": {
    "slideshow": {
     "slide_type": "slide"
    }
   },
   "outputs": [
    {
     "data": {
      "text/plain": [
       "6"
      ]
     },
     "execution_count": 10,
     "metadata": {},
     "output_type": "execute_result"
    }
   ],
   "source": [
    "(4 + 4) - 2"
   ]
  },
  {
   "cell_type": "code",
   "execution_count": 11,
   "metadata": {
    "slideshow": {
     "slide_type": "slide"
    }
   },
   "outputs": [
    {
     "data": {
      "text/plain": [
       "-1.5"
      ]
     },
     "execution_count": 11,
     "metadata": {},
     "output_type": "execute_result"
    }
   ],
   "source": [
    "1 - 3 + 0.5"
   ]
  },
  {
   "cell_type": "markdown",
   "metadata": {
    "slideshow": {
     "slide_type": "slide"
    }
   },
   "source": [
    "`int` and `float` values can be used concurrently."
   ]
  },
  {
   "cell_type": "markdown",
   "metadata": {
    "slideshow": {
     "slide_type": "slide"
    }
   },
   "source": [
    "#### Multiplication"
   ]
  },
  {
   "cell_type": "code",
   "execution_count": 12,
   "metadata": {
    "slideshow": {
     "slide_type": "slide"
    }
   },
   "outputs": [
    {
     "data": {
      "text/plain": [
       "20.0"
      ]
     },
     "execution_count": 12,
     "metadata": {},
     "output_type": "execute_result"
    }
   ],
   "source": [
    "4 * 2 * 2.5"
   ]
  },
  {
   "cell_type": "markdown",
   "metadata": {},
   "source": [
    "Try a multiplication problem of your own in the next cell. "
   ]
  },
  {
   "cell_type": "code",
   "execution_count": 13,
   "metadata": {},
   "outputs": [],
   "source": [
    "#Add your code here."
   ]
  },
  {
   "cell_type": "markdown",
   "metadata": {},
   "source": [
    "### Exponentiation/Indices"
   ]
  },
  {
   "cell_type": "markdown",
   "metadata": {
    "slideshow": {
     "slide_type": "slide"
    }
   },
   "source": [
    "`**` is used for **exponentiation** (*'to the power of'*)"
   ]
  },
  {
   "cell_type": "code",
   "execution_count": 14,
   "metadata": {
    "slideshow": {
     "slide_type": "slide"
    }
   },
   "outputs": [
    {
     "data": {
      "text/plain": [
       "9"
      ]
     },
     "execution_count": 14,
     "metadata": {},
     "output_type": "execute_result"
    }
   ],
   "source": [
    "3 ** 2"
   ]
  },
  {
   "cell_type": "markdown",
   "metadata": {},
   "source": [
    "How would you calculate 10 to the power of 9 in python? Try writing it out in the cell below."
   ]
  },
  {
   "cell_type": "code",
   "execution_count": 15,
   "metadata": {},
   "outputs": [],
   "source": [
    "#Add your code here.\n"
   ]
  },
  {
   "cell_type": "markdown",
   "metadata": {
    "slideshow": {
     "slide_type": "slide"
    }
   },
   "source": [
    "#### Division"
   ]
  },
  {
   "cell_type": "code",
   "execution_count": 16,
   "metadata": {
    "slideshow": {
     "slide_type": "slide"
    }
   },
   "outputs": [
    {
     "data": {
      "text/plain": [
       "52.142857142857146"
      ]
     },
     "execution_count": 16,
     "metadata": {},
     "output_type": "execute_result"
    }
   ],
   "source": [
    "365 / 7"
   ]
  },
  {
   "cell_type": "markdown",
   "metadata": {
    "slideshow": {
     "slide_type": "slide"
    }
   },
   "source": [
    "Division using `/` always results in a value of type `float`."
   ]
  },
  {
   "cell_type": "markdown",
   "metadata": {
    "slideshow": {
     "slide_type": "slide"
    }
   },
   "source": [
    "#### Other types of division\n",
    "\n",
    "* Floor division, using `//`\n",
    "* Modulo using `%`"
   ]
  },
  {
   "cell_type": "markdown",
   "metadata": {
    "slideshow": {
     "slide_type": "slide"
    }
   },
   "source": [
    "- Floor division operator `//` divides the number, and then rounds down the nearest integer."
   ]
  },
  {
   "cell_type": "code",
   "execution_count": 17,
   "metadata": {
    "slideshow": {
     "slide_type": "slide"
    }
   },
   "outputs": [
    {
     "data": {
      "text/plain": [
       "52"
      ]
     },
     "execution_count": 17,
     "metadata": {},
     "output_type": "execute_result"
    }
   ],
   "source": [
    "365 // 7"
   ]
  },
  {
   "cell_type": "markdown",
   "metadata": {
    "slideshow": {
     "slide_type": "slide"
    }
   },
   "source": [
    "- The modulo operator `%` divides number, and gives you the remainder as the result"
   ]
  },
  {
   "cell_type": "code",
   "execution_count": 18,
   "metadata": {
    "slideshow": {
     "slide_type": "slide"
    }
   },
   "outputs": [
    {
     "data": {
      "text/plain": [
       "1"
      ]
     },
     "execution_count": 18,
     "metadata": {},
     "output_type": "execute_result"
    }
   ],
   "source": [
    "365 % 7"
   ]
  },
  {
   "cell_type": "markdown",
   "metadata": {
    "slideshow": {
     "slide_type": "slide"
    }
   },
   "source": [
    "#### Question\n",
    "What do you think 32 % 10 is?     (*This reads 32 mod 10*) <br>\n",
    "*You can check your answer in the cell below* "
   ]
  },
  {
   "cell_type": "code",
   "execution_count": 19,
   "metadata": {
    "slideshow": {
     "slide_type": "slide"
    }
   },
   "outputs": [],
   "source": [
    "#add your code here\n",
    "\n"
   ]
  },
  {
   "cell_type": "markdown",
   "metadata": {
    "slideshow": {
     "slide_type": "slide"
    }
   },
   "source": [
    "#### String manipulation using Arithmetic operators\n",
    "\n",
    "These operators can sometimes be used on strings..."
   ]
  },
  {
   "cell_type": "code",
   "execution_count": 20,
   "metadata": {
    "slideshow": {
     "slide_type": "slide"
    }
   },
   "outputs": [
    {
     "data": {
      "text/plain": [
       "'Helen Mirren'"
      ]
     },
     "execution_count": 20,
     "metadata": {},
     "output_type": "execute_result"
    }
   ],
   "source": [
    "'Helen' + ' ' + 'Mirren'"
   ]
  },
  {
   "cell_type": "markdown",
   "metadata": {},
   "source": [
    "Try combining two strings yourself in the cell below. Maybe your first and last names. <br> \n",
    "*Did you include a space in between?*"
   ]
  },
  {
   "cell_type": "code",
   "execution_count": 21,
   "metadata": {},
   "outputs": [],
   "source": [
    "# Add your code here\n",
    "\n"
   ]
  },
  {
   "cell_type": "markdown",
   "metadata": {
    "slideshow": {
     "slide_type": "slide"
    }
   },
   "source": [
    "#### Let's Try Using Arithmetic Operators with Variables"
   ]
  },
  {
   "cell_type": "markdown",
   "metadata": {
    "slideshow": {
     "slide_type": "slide"
    }
   },
   "source": [
    "- Remember that the assignment operator `=` needs to be used when <br> storing a value in otherwise known as \"assigning a value\" to a variable."
   ]
  },
  {
   "cell_type": "code",
   "execution_count": 22,
   "metadata": {
    "slideshow": {
     "slide_type": "slide"
    }
   },
   "outputs": [],
   "source": [
    "items = 250\n",
    "defects = 6\n",
    "item_price = 5\n",
    "total_cost = 1000"
   ]
  },
  {
   "cell_type": "code",
   "execution_count": 23,
   "metadata": {
    "slideshow": {
     "slide_type": "slide"
    }
   },
   "outputs": [
    {
     "data": {
      "text/plain": [
       "2.4"
      ]
     },
     "execution_count": 23,
     "metadata": {},
     "output_type": "execute_result"
    }
   ],
   "source": [
    "defect_rate = (defects/items) * 100\n",
    "defect_rate"
   ]
  },
  {
   "cell_type": "code",
   "execution_count": 24,
   "metadata": {
    "slideshow": {
     "slide_type": "slide"
    }
   },
   "outputs": [
    {
     "data": {
      "text/plain": [
       "1220"
      ]
     },
     "execution_count": 24,
     "metadata": {},
     "output_type": "execute_result"
    }
   ],
   "source": [
    "revenue = item_price * (items - defects)\n",
    "revenue"
   ]
  },
  {
   "cell_type": "markdown",
   "metadata": {},
   "source": [
    "Profit is revenue minus total cost.  Try your hand at calculating Profit using code in the cell below."
   ]
  },
  {
   "cell_type": "code",
   "execution_count": null,
   "metadata": {
    "slideshow": {
     "slide_type": "slide"
    }
   },
   "outputs": [],
   "source": []
  },
  {
   "cell_type": "markdown",
   "metadata": {
    "slideshow": {
     "slide_type": "slide"
    }
   },
   "source": [
    "## ☑️ Comments"
   ]
  },
  {
   "cell_type": "markdown",
   "metadata": {
    "slideshow": {
     "slide_type": "slide"
    }
   },
   "source": [
    "- Comments can be used to explain Python code and make the code more readable. \n",
    "- Have you noticed any comments in the code cells above? \n",
    "- Do you know what color the comments were?\n",
    "  \n",
    "- We can add **comments** to our code in the following ways:"
   ]
  },
  {
   "cell_type": "code",
   "execution_count": 25,
   "metadata": {
    "slideshow": {
     "slide_type": "slide"
    }
   },
   "outputs": [
    {
     "data": {
      "text/plain": [
       "1000"
      ]
     },
     "execution_count": 25,
     "metadata": {},
     "output_type": "execute_result"
    }
   ],
   "source": [
    "'''\n",
    "This is a multiline comment (they're brown).  These are useful if your comment isn't just on one line. \n",
    "You start the comment with 3 single quotes and then end your comment by writing 3 more single quotes.\n",
    "'''\n",
    "\n",
    "attendance = 100  #This is a single line comment, that's why it's green. \n",
    "ticket_price = 10\n",
    "\n",
    "revenue = attendance * ticket_price \n",
    "# revenue = attendance + ticket_price  (With a hashtag at the start, python ignores this line, even the code.)\n",
    "revenue"
   ]
  },
  {
   "cell_type": "markdown",
   "metadata": {
    "slideshow": {
     "slide_type": "slide"
    }
   },
   "source": [
    "- **Multi-line comments** sit within `'''`three speech marks`'''`\n",
    "- **Single line comments** (which can share a line with working code) sit to the right of a `#` character\n",
    "\n",
    "You can use comments to debug code, commenting out a line of code to see how your programme runs without it.\n",
    "Multiline comments at the start of your programme can explain what your programme is meant to do. Single line comments can also help you to annotate your programme, explaining what each block of code does. This makes your code more readable for others and for you when you come back to it after a long time."
   ]
  },
  {
   "cell_type": "markdown",
   "metadata": {
    "slideshow": {
     "slide_type": "slide"
    }
   },
   "source": [
    "### Type conversion (casting)"
   ]
  },
  {
   "cell_type": "markdown",
   "metadata": {
    "slideshow": {
     "slide_type": "slide"
    }
   },
   "source": [
    "Attempting operations with values of the wrong data type can result in errors:"
   ]
  },
  {
   "cell_type": "code",
   "execution_count": 26,
   "metadata": {
    "slideshow": {
     "slide_type": "slide"
    }
   },
   "outputs": [
    {
     "ename": "TypeError",
     "evalue": "can only concatenate str (not \"int\") to str",
     "output_type": "error",
     "traceback": [
      "\u001b[1;31m---------------------------------------------------------------------------\u001b[0m",
      "\u001b[1;31mTypeError\u001b[0m                                 Traceback (most recent call last)",
      "Cell \u001b[1;32mIn[26], line 2\u001b[0m\n\u001b[0;32m      1\u001b[0m meals \u001b[38;5;241m=\u001b[39m \u001b[38;5;124m'\u001b[39m\u001b[38;5;124m5.0\u001b[39m\u001b[38;5;124m'\u001b[39m\n\u001b[1;32m----> 2\u001b[0m meals \u001b[38;5;241m=\u001b[39m \u001b[43mmeals\u001b[49m\u001b[43m \u001b[49m\u001b[38;5;241;43m+\u001b[39;49m\u001b[43m \u001b[49m\u001b[38;5;241;43m1\u001b[39;49m\n\u001b[0;32m      3\u001b[0m meals\n",
      "\u001b[1;31mTypeError\u001b[0m: can only concatenate str (not \"int\") to str"
     ]
    }
   ],
   "source": [
    "meals = '5.0'\n",
    "meals = meals + 1\n",
    "meals"
   ]
  },
  {
   "cell_type": "markdown",
   "metadata": {},
   "source": [
    "#### Casting Functions Change an Object from One Datatype to Another"
   ]
  },
  {
   "cell_type": "markdown",
   "metadata": {
    "slideshow": {
     "slide_type": "slide"
    }
   },
   "source": [
    "There are several **built-in functions** we can use to convert the **type** of a value where possible, each corresponding to the **data types** we saw earlier. This is also referred to as **casting**, following are some common casting functions in Python:\n",
    "\n",
    "| Function | Description   |\n",
    "|:- |:- |\n",
    "|   **str()**  | Returns the string version of the object|\n",
    "|   **int()**  | Returns integer from a number or string|\n",
    "|   **float()**  | Returns floating point number from number, string|\n",
    "|   **bool()**  | Converts a data value to Boolean|"
   ]
  },
  {
   "cell_type": "code",
   "execution_count": null,
   "metadata": {
    "slideshow": {
     "slide_type": "slide"
    }
   },
   "outputs": [
    {
     "data": {
      "text/plain": [
       "6.0"
      ]
     },
     "execution_count": 1,
     "metadata": {},
     "output_type": "execute_result"
    }
   ],
   "source": [
    "meals = '5.0'\n",
    "meals = float(meals)\n",
    "meals = meals + 1\n",
    "meals"
   ]
  },
  {
   "cell_type": "code",
   "execution_count": null,
   "metadata": {
    "slideshow": {
     "slide_type": "slide"
    }
   },
   "outputs": [
    {
     "data": {
      "text/plain": [
       "6"
      ]
     },
     "execution_count": 2,
     "metadata": {},
     "output_type": "execute_result"
    }
   ],
   "source": [
    "int(meals)"
   ]
  },
  {
   "cell_type": "markdown",
   "metadata": {
    "slideshow": {
     "slide_type": "slide"
    }
   },
   "source": [
    "# Part 2 - Python Data structures"
   ]
  },
  {
   "cell_type": "markdown",
   "metadata": {
    "slideshow": {
     "slide_type": "slide"
    }
   },
   "source": [
    "<img src=\"data:image/png;base64,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\"  alt=\"python data structures\" width=\"600\" height=\"400\">"
   ]
  },
  {
   "cell_type": "markdown",
   "metadata": {
    "slideshow": {
     "slide_type": "slide"
    }
   },
   "source": [
    "Now it's time to take a closer look at four **built-in data structures** in Python. Each one is associated with a type of brackets:\n",
    "(A lot of what you have learned so far is recyclable here!)\n",
    "\n",
    "| Name | Description   | Brackets   |\n",
    "|:- |:- |:- |\n",
    "|   **lists**  | an editable(mutable), **ordered collection** of values |Associated with square brackets `[]`|\n",
    "|   **dictionaries**  | an unordered, editable collection of **`key:value` pairs** |Associated with curly brackets `{}`|\n",
    "|   **tuples**  | similar to lists, but **not editable**(immutable) |Associated with round brackets `()`|\n",
    "|   **sets**  | an unordered, editable collection **unique values**|Associated with curly brackets `{}`|"
   ]
  },
  {
   "cell_type": "markdown",
   "metadata": {
    "slideshow": {
     "slide_type": "slide"
    }
   },
   "source": [
    "- Data structures are used to **store** and **organise** data\n",
    "\n",
    "- You are likely to encounter **lists** and **dictionaries** more frequently than **tuples** and **sets**  \n",
    "\n",
    "- You will use other, more **specialised data structures** in future when using **packages** such as **pandas**"
   ]
  },
  {
   "cell_type": "markdown",
   "metadata": {
    "slideshow": {
     "slide_type": "slide"
    }
   },
   "source": [
    "## ☑️ Lists\n",
    "In Python a list is created by placing all the elements inside **square brackets [ ]**, separated by commas\n",
    "\n",
    "- Lists have  a variable number of elements\n",
    "- Elements can be **added**, **removed** or **modified**\n",
    "- Elements are accessed using a **zero-based index**\n",
    "- Elements do not have to be the same data type\n",
    "- You can also define an empty list with square brackets, e.g. `my_list = []`\n",
    "- You can also create a list using the built-in `list()` function"
   ]
  },
  {
   "cell_type": "markdown",
   "metadata": {
    "slideshow": {
     "slide_type": "slide"
    }
   },
   "source": [
    "#### List indexing"
   ]
  },
  {
   "cell_type": "markdown",
   "metadata": {
    "slideshow": {
     "slide_type": "slide"
    }
   },
   "source": [
    "The syntax we can use for **accessing list elements by position** are the same as for strings, <br> with the number of **numerical values** and **colons** determining the interpretation:\n",
    "\n",
    "- `[position]`\n",
    "- `[start:stop]`\n",
    "- `[start:stop:step]`\n",
    "\n",
    "Again, indexing is **zero-based**, and **negative values** can be used to access by **position from the end of the list**."
   ]
  },
  {
   "cell_type": "markdown",
   "metadata": {
    "slideshow": {
     "slide_type": "slide"
    }
   },
   "source": [
    "<img src=\"data:image/png;base64,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\"  alt=\"python list index\" width=\"600\" height=\"400\">"
   ]
  },
  {
   "cell_type": "markdown",
   "metadata": {
    "slideshow": {
     "slide_type": "slide"
    }
   },
   "source": [
    " ### Let's store our rainfall measurements in a list. <br> \n",
    " Lists always have square brackets at the beginning and end. `[]` <br> The items inside the list are separated by commas."
   ]
  },
  {
   "cell_type": "code",
   "execution_count": null,
   "metadata": {
    "slideshow": {
     "slide_type": "slide"
    }
   },
   "outputs": [],
   "source": [
    "rain = [6.5, 0, 0, 1.2, 2.6, 5.4]"
   ]
  },
  {
   "cell_type": "code",
   "execution_count": null,
   "metadata": {
    "slideshow": {
     "slide_type": "slide"
    }
   },
   "outputs": [],
   "source": [
    "rain"
   ]
  },
  {
   "cell_type": "code",
   "execution_count": null,
   "metadata": {
    "slideshow": {
     "slide_type": "slide"
    }
   },
   "outputs": [],
   "source": [
    "type(rain)"
   ]
  },
  {
   "cell_type": "code",
   "execution_count": null,
   "metadata": {
    "slideshow": {
     "slide_type": "slide"
    }
   },
   "outputs": [],
   "source": [
    "len(rain)"
   ]
  },
  {
   "cell_type": "markdown",
   "metadata": {
    "slideshow": {
     "slide_type": "slide"
    }
   },
   "source": [
    "- The built-in `len()` function can be used on lists and strings to determine their **length**"
   ]
  },
  {
   "cell_type": "markdown",
   "metadata": {
    "slideshow": {
     "slide_type": "slide"
    }
   },
   "source": [
    "#### List indexing\n",
    "- Retrieving  items from the list, using indexing (remember that Python is zero indexed)"
   ]
  },
  {
   "cell_type": "code",
   "execution_count": null,
   "metadata": {
    "slideshow": {
     "slide_type": "slide"
    }
   },
   "outputs": [],
   "source": [
    "rain[4]"
   ]
  },
  {
   "cell_type": "code",
   "execution_count": null,
   "metadata": {
    "slideshow": {
     "slide_type": "slide"
    }
   },
   "outputs": [],
   "source": [
    "rain[1:4]"
   ]
  },
  {
   "cell_type": "code",
   "execution_count": null,
   "metadata": {
    "slideshow": {
     "slide_type": "slide"
    }
   },
   "outputs": [],
   "source": [
    "rain[4:]"
   ]
  },
  {
   "cell_type": "code",
   "execution_count": null,
   "metadata": {
    "slideshow": {
     "slide_type": "slide"
    }
   },
   "outputs": [],
   "source": [
    "rain[:4]"
   ]
  },
  {
   "cell_type": "markdown",
   "metadata": {
    "slideshow": {
     "slide_type": "slide"
    }
   },
   "source": [
    "#### List indexing with negative values"
   ]
  },
  {
   "cell_type": "code",
   "execution_count": null,
   "metadata": {
    "slideshow": {
     "slide_type": "slide"
    }
   },
   "outputs": [],
   "source": [
    "rain[-1]"
   ]
  },
  {
   "cell_type": "code",
   "execution_count": null,
   "metadata": {
    "slideshow": {
     "slide_type": "slide"
    }
   },
   "outputs": [],
   "source": [
    "rain[-2:]"
   ]
  },
  {
   "cell_type": "code",
   "execution_count": null,
   "metadata": {
    "slideshow": {
     "slide_type": "slide"
    }
   },
   "outputs": [],
   "source": [
    "rain[:-2]"
   ]
  },
  {
   "cell_type": "markdown",
   "metadata": {
    "slideshow": {
     "slide_type": "slide"
    }
   },
   "source": [
    "#### Let's define a list of strings..."
   ]
  },
  {
   "cell_type": "code",
   "execution_count": 28,
   "metadata": {
    "slideshow": {
     "slide_type": "slide"
    }
   },
   "outputs": [],
   "source": [
    "people = ['Anna', 'Ben', 'Cynthia', 'Dennis', 'Evandro', 'Farhad']"
   ]
  },
  {
   "cell_type": "code",
   "execution_count": null,
   "metadata": {
    "slideshow": {
     "slide_type": "slide"
    }
   },
   "outputs": [],
   "source": [
    "people"
   ]
  },
  {
   "cell_type": "code",
   "execution_count": null,
   "metadata": {
    "slideshow": {
     "slide_type": "slide"
    }
   },
   "outputs": [],
   "source": [
    "type(people)"
   ]
  },
  {
   "cell_type": "code",
   "execution_count": null,
   "metadata": {
    "slideshow": {
     "slide_type": "slide"
    }
   },
   "outputs": [],
   "source": [
    "len(people)"
   ]
  },
  {
   "cell_type": "markdown",
   "metadata": {
    "slideshow": {
     "slide_type": "slide"
    }
   },
   "source": [
    "#### Python List Methods\n",
    "\n",
    "- Python has a set of built-in methods that are available with every list object\n",
    "\n",
    "| Method | Description   |\n",
    "|:- |:- |\n",
    "|   append()  | Adds an item to the end of the list|\n",
    "|   clear()  | Removes all items from the list|\n",
    "|   copy()  | creates a new copy of the current list|\n",
    "|   count()  | Returns the count of the number of items passed as an argument|\n",
    "|   extend()  | Add all items of a list to the end of another list|\n",
    "|   index()  | Returns the index of the first item with the specified value|\n",
    "|   insert()  | Adds an item at the specified index position|\n",
    "|   pop()  | Removes an item from the list at the given index|\n",
    "|   remove()  | Removes the item with the specified value|\n",
    "|   reverse()  | Reverses the order of the list|\n",
    "|   sort()  | Sorts the list|"
   ]
  },
  {
   "cell_type": "markdown",
   "metadata": {},
   "source": [
    "Remember our people list from above?  Run the code in the next cell so we can see the list here."
   ]
  },
  {
   "cell_type": "code",
   "execution_count": 29,
   "metadata": {},
   "outputs": [
    {
     "data": {
      "text/plain": [
       "['Anna', 'Ben', 'Cynthia', 'Dennis', 'Evandro', 'Farhad']"
      ]
     },
     "execution_count": 29,
     "metadata": {},
     "output_type": "execute_result"
    }
   ],
   "source": [
    "people"
   ]
  },
  {
   "cell_type": "markdown",
   "metadata": {},
   "source": [
    "We can use the `append` method to add your name to the list. Replace `your name` below with your own first name.  *Notice that the method is written after the name of the list with a full stop in between.*  "
   ]
  },
  {
   "cell_type": "code",
   "execution_count": 32,
   "metadata": {},
   "outputs": [
    {
     "data": {
      "text/plain": [
       "['Anna',\n",
       " 'Ben',\n",
       " 'Cynthia',\n",
       " 'Dennis',\n",
       " 'Evandro',\n",
       " 'Farhad',\n",
       " 'your name',\n",
       " 'your name',\n",
       " 'Ramla']"
      ]
     },
     "execution_count": 32,
     "metadata": {},
     "output_type": "execute_result"
    }
   ],
   "source": [
    "people.append('Your Name')\n",
    "people"
   ]
  },
  {
   "cell_type": "markdown",
   "metadata": {},
   "source": [
    "If you run the cell above, it will add your name a second time to the list.  <br> Everytime you use the append method it adds what is in the round brackets to the list. <br> Let's try popping off those extra names by running the next cell. <br> Everytime you run it the last item in the list will be removed."
   ]
  },
  {
   "cell_type": "code",
   "execution_count": 35,
   "metadata": {},
   "outputs": [
    {
     "data": {
      "text/plain": [
       "['Anna', 'Ben', 'Cynthia', 'Dennis', 'Evandro', 'Farhad']"
      ]
     },
     "execution_count": 35,
     "metadata": {},
     "output_type": "execute_result"
    }
   ],
   "source": [
    "people.pop()\n",
    "people"
   ]
  },
  {
   "cell_type": "markdown",
   "metadata": {
    "slideshow": {
     "slide_type": "slide"
    }
   },
   "source": [
    "## ☑️  Dictionaries\n",
    "You can define a dictionary by using curly brackets `{key:value}`, with each key and value separated by a colon `:` \n",
    "\n",
    "- Dictionaries **map values to keys** `{key:value}`\n",
    "- Each item stored in a dictionary is actually a **key:value pair**\n",
    "- Values are **accessed using the key** (rather than index)\n",
    "- Values can be modified and further **key:value pairs** added\n",
    "- You can also define an empty dictionary with curly brackets, e.g. `my_dict = {}`\n",
    "- You can also create a dictionary using the built-in `dict()` function"
   ]
  },
  {
   "cell_type": "markdown",
   "metadata": {
    "slideshow": {
     "slide_type": "slide"
    }
   },
   "source": [
    "<img src=\"data:image/png;base64,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\"  alt=\"python dict\" width=\"600\" height=\"400\">"
   ]
  },
  {
   "cell_type": "markdown",
   "metadata": {
    "slideshow": {
     "slide_type": "slide"
    }
   },
   "source": [
    "#### Define a dictionary using curly brackets `{key:value}`"
   ]
  },
  {
   "cell_type": "code",
   "execution_count": null,
   "metadata": {
    "slideshow": {
     "slide_type": "slide"
    }
   },
   "outputs": [],
   "source": [
    "user = {'Name': 'David',\n",
    "        'Occupation': 'Magician',\n",
    "        'Phone': 5554267,\n",
    "        'Town': 'New York',\n",
    "       }"
   ]
  },
  {
   "cell_type": "code",
   "execution_count": null,
   "metadata": {
    "slideshow": {
     "slide_type": "slide"
    }
   },
   "outputs": [],
   "source": [
    "user"
   ]
  },
  {
   "cell_type": "code",
   "execution_count": null,
   "metadata": {
    "slideshow": {
     "slide_type": "slide"
    }
   },
   "outputs": [],
   "source": [
    "type(user)"
   ]
  },
  {
   "cell_type": "code",
   "execution_count": null,
   "metadata": {
    "slideshow": {
     "slide_type": "slide"
    }
   },
   "outputs": [],
   "source": [
    "len(user)"
   ]
  },
  {
   "cell_type": "markdown",
   "metadata": {
    "slideshow": {
     "slide_type": "slide"
    }
   },
   "source": [
    "We can use `keys` inside square brackets `[ ]` to **retrieve** `values`"
   ]
  },
  {
   "cell_type": "code",
   "execution_count": null,
   "metadata": {
    "slideshow": {
     "slide_type": "slide"
    }
   },
   "outputs": [],
   "source": [
    "user['Town']"
   ]
  },
  {
   "cell_type": "code",
   "execution_count": null,
   "metadata": {
    "slideshow": {
     "slide_type": "slide"
    }
   },
   "outputs": [],
   "source": [
    "user['Phone']"
   ]
  },
  {
   "cell_type": "markdown",
   "metadata": {
    "slideshow": {
     "slide_type": "slide"
    }
   },
   "source": [
    "We can **add** or **modify** values in the same way as we would assign or update variables:"
   ]
  },
  {
   "cell_type": "code",
   "execution_count": null,
   "metadata": {
    "slideshow": {
     "slide_type": "slide"
    }
   },
   "outputs": [],
   "source": [
    "user['Town'] = 'San Francisco'    #modify\n",
    "user['Gender'] = 'Male'           #add"
   ]
  },
  {
   "cell_type": "code",
   "execution_count": null,
   "metadata": {
    "slideshow": {
     "slide_type": "slide"
    }
   },
   "outputs": [],
   "source": [
    "user"
   ]
  },
  {
   "cell_type": "markdown",
   "metadata": {
    "slideshow": {
     "slide_type": "slide"
    }
   },
   "source": [
    "#### Python Dictionary Methods\n",
    "- Python has a set of built-in methods that are available with every dictionary object\n",
    "\n",
    "| Method | Description   |\n",
    "|:- |:- |\n",
    "|copy()| creates a copy of the current dictionary|\n",
    "|get()|Returns the value of the specified key|\n",
    "|items()|Returns a list containing a tuple for each key-value pair|\n",
    "|keys()|Returns a list containing dictionary keys|\n",
    "|pop()|Removes items with the specified key|\n",
    "|update()|Updates the dictionary with the specified `{key:value}` pairs|\n",
    "|values()|Returns a list of all the values in the dictionary|"
   ]
  },
  {
   "cell_type": "code",
   "execution_count": null,
   "metadata": {
    "slideshow": {
     "slide_type": "slide"
    }
   },
   "outputs": [],
   "source": [
    "user"
   ]
  },
  {
   "cell_type": "code",
   "execution_count": null,
   "metadata": {
    "slideshow": {
     "slide_type": "slide"
    }
   },
   "outputs": [],
   "source": [
    "user.update({'Town': 'Washington',  #Update is especially useful for adding several key-value pairs at once.\n",
    "             'Country': 'USA'})\n",
    "user"
   ]
  },
  {
   "cell_type": "markdown",
   "metadata": {
    "slideshow": {
     "slide_type": "slide"
    }
   },
   "source": [
    "## ☑️  Tuples vs lists"
   ]
  },
  {
   "cell_type": "code",
   "execution_count": null,
   "metadata": {},
   "outputs": [],
   "source": [
    "user_info = (Lesley, 38)"
   ]
  },
  {
   "cell_type": "markdown",
   "metadata": {},
   "source": [
    "`user_info` is a tuple. The key difference between tuples and lists is that `tuples` are immutable *(they cannot be changed)* and `lists` are mutable. In practice, you can achieve the same functionality by using a `list`. But because lists are mutable, they use more memory than tuples.\n",
    " "
   ]
  },
  {
   "cell_type": "markdown",
   "metadata": {
    "slideshow": {
     "slide_type": "slide"
    }
   },
   "source": [
    "## ☑️  Sets\n"
   ]
  },
  {
   "cell_type": "code",
   "execution_count": null,
   "metadata": {},
   "outputs": [],
   "source": [
    "weather_set = {rain, snow, sun, wind, hail}"
   ]
  },
  {
   "cell_type": "code",
   "execution_count": null,
   "metadata": {},
   "outputs": [],
   "source": [
    "type(weather_set)"
   ]
  },
  {
   "cell_type": "markdown",
   "metadata": {},
   "source": [
    "Because sets cannot have multiple occurrences of the same element, sets are highly useful for removing duplicate values from a list or tuple."
   ]
  },
  {
   "cell_type": "markdown",
   "metadata": {
    "slideshow": {
     "slide_type": "slide"
    }
   },
   "source": [
    "Convert a list to a set to get rid of duplicates. Then convert it back into a list."
   ]
  },
  {
   "cell_type": "code",
   "execution_count": 36,
   "metadata": {
    "slideshow": {
     "slide_type": "slide"
    }
   },
   "outputs": [
    {
     "data": {
      "text/plain": [
       "['Ellie', 'Sarah', 'Amar', 'Sarah', 'Sarah', 'Sarah']"
      ]
     },
     "execution_count": 36,
     "metadata": {},
     "output_type": "execute_result"
    }
   ],
   "source": [
    "friends = ['Ellie', 'Sarah', 'Amar', 'Sarah', 'Sarah', 'Sarah']\n",
    "friends"
   ]
  },
  {
   "cell_type": "code",
   "execution_count": 37,
   "metadata": {
    "slideshow": {
     "slide_type": "slide"
    }
   },
   "outputs": [
    {
     "data": {
      "text/plain": [
       "list"
      ]
     },
     "execution_count": 37,
     "metadata": {},
     "output_type": "execute_result"
    }
   ],
   "source": [
    "type(friends)   #What datatype is friends?"
   ]
  },
  {
   "cell_type": "code",
   "execution_count": 46,
   "metadata": {
    "slideshow": {
     "slide_type": "slide"
    }
   },
   "outputs": [
    {
     "data": {
      "text/plain": [
       "6"
      ]
     },
     "execution_count": 46,
     "metadata": {},
     "output_type": "execute_result"
    }
   ],
   "source": [
    "len(friends)    #How long is friends?"
   ]
  },
  {
   "cell_type": "code",
   "execution_count": 49,
   "metadata": {},
   "outputs": [
    {
     "data": {
      "text/plain": [
       "{'Amar', 'Ellie', 'Sarah'}"
      ]
     },
     "execution_count": 49,
     "metadata": {},
     "output_type": "execute_result"
    }
   ],
   "source": [
    "friends = set(friends)  #Lets convert friends into a set and save it under the old name.\n",
    "friends  "
   ]
  },
  {
   "cell_type": "code",
   "execution_count": 50,
   "metadata": {},
   "outputs": [
    {
     "data": {
      "text/plain": [
       "set"
      ]
     },
     "execution_count": 50,
     "metadata": {},
     "output_type": "execute_result"
    }
   ],
   "source": [
    "type(friends)    #Is it a set?"
   ]
  },
  {
   "cell_type": "code",
   "execution_count": 51,
   "metadata": {},
   "outputs": [
    {
     "data": {
      "text/plain": [
       "3"
      ]
     },
     "execution_count": 51,
     "metadata": {},
     "output_type": "execute_result"
    }
   ],
   "source": [
    "len(friends)     #How many items in friends?  What's missing from the original list?"
   ]
  },
  {
   "cell_type": "code",
   "execution_count": 54,
   "metadata": {},
   "outputs": [
    {
     "data": {
      "text/plain": [
       "['Ellie', 'Sarah', 'Amar']"
      ]
     },
     "execution_count": 54,
     "metadata": {},
     "output_type": "execute_result"
    }
   ],
   "source": [
    "friends = list(friends)  #Okay. Lets convert it back into a list now.\n",
    "friends"
   ]
  },
  {
   "cell_type": "code",
   "execution_count": 53,
   "metadata": {},
   "outputs": [
    {
     "data": {
      "text/plain": [
       "list"
      ]
     },
     "execution_count": 53,
     "metadata": {},
     "output_type": "execute_result"
    }
   ],
   "source": [
    "type(friends)     #Is it a list again?"
   ]
  }
 ],
 "metadata": {
  "celltoolbar": "None",
  "kernelspec": {
   "display_name": "Python 3 (ipykernel)",
   "language": "python",
   "name": "python3"
  },
  "language_info": {
   "codemirror_mode": {
    "name": "ipython",
    "version": 3
   },
   "file_extension": ".py",
   "mimetype": "text/x-python",
   "name": "python",
   "nbconvert_exporter": "python",
   "pygments_lexer": "ipython3",
   "version": "3.12.4"
  }
 },
 "nbformat": 4,
 "nbformat_minor": 4
}
